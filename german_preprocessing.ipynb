{
 "cells": [
  {
   "cell_type": "code",
   "execution_count": 2,
   "metadata": {},
   "outputs": [],
   "source": [
    "from nltk.tag.sequential import ClassifierBasedTagger\n",
    "import re\n",
    "import nltk\n",
    "from sklearn.utils import shuffle"
   ]
  },
  {
   "cell_type": "code",
   "execution_count": 3,
   "metadata": {
    "collapsed": true
   },
   "outputs": [],
   "source": [
    "class ClassifierBasedGermanTagger(ClassifierBasedTagger):\n",
    "    \"\"\"A classifier based German part-of-speech tagger. It has an accuracy of\n",
    "    96.09% after being trained on 90% of the German TIGER corpus. The tagger\n",
    "    extends the NLTK ClassifierBasedTagger and implements a slightly modified\n",
    "    feature detector.\n",
    "    \"\"\"\n",
    "\n",
    "    def feature_detector(self, tokens, index, history):\n",
    "        \"\"\"Implementing a slightly modified feature detector.\n",
    "        @param tokens: The tokens from the sentence to tag.\n",
    "        @param index: The current token index to tag.\n",
    "        @param history: The previous tagged tokens.\n",
    "        \"\"\"\n",
    "\n",
    "        word = tokens[index]\n",
    "        if index == 0: # At the beginning of the sentence\n",
    "            prevword = prevprevword = None\n",
    "            prevtag = prevprevtag = None\n",
    "            #word = word.lower() # Lowercase at the beginning of sentence\n",
    "        elif index == 1:\n",
    "            prevword = tokens[index-1] # Note: no lowercase\n",
    "            prevprevword = None\n",
    "            prevtag = history[index-1]\n",
    "            prevprevtag = None\n",
    "        else:\n",
    "            prevword = tokens[index-1]\n",
    "            prevprevword = tokens[index-2]\n",
    "            prevtag = history[index-1]\n",
    "            prevprevtag = history[index-2]\n",
    "\n",
    "        if re.match('[0-9]+([\\.,][0-9]*)?|[0-9]*[\\.,][0-9]+$', word):\n",
    "            # Included \",\" as decimal point\n",
    "            shape = 'number'\n",
    "        elif re.compile('\\W+$', re.UNICODE).match(word):\n",
    "            # Included unicode flag\n",
    "            shape = 'punct'\n",
    "        elif re.match('([A-ZÄÖÜ]+[a-zäöüß]*-?)+$', word):\n",
    "            # Included dash for dashed words and umlauts\n",
    "            shape = 'upcase'\n",
    "        elif re.match('[a-zäöüß]+', word):\n",
    "            # Included umlauts\n",
    "            shape = 'downcase'\n",
    "        elif re.compile(\"\\w+\", re.UNICODE).match(word):\n",
    "            # Included unicode flag\n",
    "            shape = 'mixedcase'\n",
    "        else:\n",
    "            shape = 'other'\n",
    "\n",
    "        features = {\n",
    "            'prevtag': prevtag,\n",
    "            'prevprevtag': prevprevtag,\n",
    "            'word': word,\n",
    "            'word.lower': word.lower(),\n",
    "            'suffix3': word.lower()[-3:],\n",
    "            #'suffix2': word.lower()[-2:],\n",
    "            #'suffix1': word.lower()[-1:],\n",
    "            'preffix1': word[:1], # included\n",
    "            'prevprevword': prevprevword,\n",
    "            'prevword': prevword,\n",
    "            'prevtag+word': '%s+%s' % (prevtag, word),\n",
    "            'prevprevtag+word': '%s+%s' % (prevprevtag, word),\n",
    "            'prevword+word': '%s+%s' % (prevword, word),\n",
    "            'shape': shape\n",
    "            }\n",
    "        return features"
   ]
  },
  {
   "cell_type": "code",
   "execution_count": 4,
   "metadata": {
    "collapsed": true
   },
   "outputs": [],
   "source": [
    "corp = nltk.corpus.ConllCorpusReader('.', 'tiger_release_aug07.corrected.16012013.conll09',\n",
    "                                     ['ignore', 'words', 'ignore', 'ignore', 'pos'],\n",
    "                                     encoding='utf-8')"
   ]
  },
  {
   "cell_type": "code",
   "execution_count": 5,
   "metadata": {},
   "outputs": [],
   "source": [
    "tagged_sents = corp.tagged_sents()\n",
    "shuffle(tagged_sents)\n",
    "split_perc = 0.1\n",
    "split_size = int(len(tagged_sents) * split_perc)\n",
    "train_sents, test_sents = tagged_sents[split_size:], tagged_sents[:split_size]"
   ]
  },
  {
   "cell_type": "code",
   "execution_count": 6,
   "metadata": {
    "collapsed": true
   },
   "outputs": [],
   "source": [
    "tagger = ClassifierBasedGermanTagger(train=train_sents)"
   ]
  },
  {
   "cell_type": "code",
   "execution_count": 7,
   "metadata": {
    "collapsed": true
   },
   "outputs": [],
   "source": [
    "accuracy = tagger.evaluate(test_sents)"
   ]
  },
  {
   "cell_type": "code",
   "execution_count": 8,
   "metadata": {
    "collapsed": true
   },
   "outputs": [],
   "source": [
    "def read_lemmata_from_tiger_corpus(tiger_corpus_file, valid_cols_n=15, col_words=1, col_lemmata=2):\n",
    "    lemmata_mapping = {}\n",
    "\n",
    "    with open(tiger_corpus_file) as f:\n",
    "        for line in f:\n",
    "            parts = line.split()\n",
    "            if len(parts) == valid_cols_n:\n",
    "                w, lemma = parts[col_words], parts[col_lemmata]\n",
    "                if w != lemma and w not in lemmata_mapping and not lemma.startswith('--'):\n",
    "                    lemmata_mapping[w] = lemma\n",
    "\n",
    "    return lemmata_mapping"
   ]
  },
  {
   "cell_type": "code",
   "execution_count": 13,
   "metadata": {},
   "outputs": [],
   "source": [
    "lemmata_mapping = read_lemmata_from_tiger_corpus('tiger_release_aug07.corrected.16012013.conll09')"
   ]
  },
  {
   "cell_type": "code",
   "execution_count": 14,
   "metadata": {
    "collapsed": true
   },
   "outputs": [],
   "source": [
    "def lemmatize_german(corpus):\n",
    "    for w in corpus:\n",
    "        w_lemma = lemmata_mapping.get(w, None)\n",
    "        if w_lemma:\n",
    "            lemmata.append((w_lemma, pos))\n",
    "        else:\n",
    "            lemmata.append((w, pos))"
   ]
  },
  {
   "cell_type": "code",
   "execution_count": null,
   "metadata": {
    "collapsed": true
   },
   "outputs": [],
   "source": []
  }
 ],
 "metadata": {
  "kernelspec": {
   "display_name": "Python 3",
   "language": "python",
   "name": "python3"
  },
  "language_info": {
   "codemirror_mode": {
    "name": "ipython",
    "version": 3
   },
   "file_extension": ".py",
   "mimetype": "text/x-python",
   "name": "python",
   "nbconvert_exporter": "python",
   "pygments_lexer": "ipython3",
   "version": "3.6.1"
  },
  "toc": {
   "nav_menu": {},
   "number_sections": true,
   "sideBar": true,
   "skip_h1_title": false,
   "toc_cell": false,
   "toc_position": {},
   "toc_section_display": "block",
   "toc_window_display": false
  }
 },
 "nbformat": 4,
 "nbformat_minor": 2
}
